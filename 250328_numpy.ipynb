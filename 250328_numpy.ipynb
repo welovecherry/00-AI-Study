{
 "cells": [
  {
   "cell_type": "code",
   "execution_count": 2,
   "id": "8f017c22-599d-4798-8466-d3199799d760",
   "metadata": {},
   "outputs": [],
   "source": [
    "import numpy as np\n"
   ]
  },
  {
   "cell_type": "code",
   "execution_count": 10,
   "id": "88afa1d3-7148-4f2f-ae87-0d5b6d072bc3",
   "metadata": {},
   "outputs": [
    {
     "data": {
      "text/plain": [
       "array([[1, 2, 3],\n",
       "       [4, 5, 6],\n",
       "       [7, 8, 9]])"
      ]
     },
     "execution_count": 10,
     "metadata": {},
     "output_type": "execute_result"
    }
   ],
   "source": [
    "data = [[1, 2, 3], [4, 5, 6], [7, 8, 9]]\n",
    "\n",
    "a = np.array(data)\n",
    "a"
   ]
  },
  {
   "cell_type": "code",
   "execution_count": 11,
   "id": "d095f63c-50e4-4395-a479-91cf1e628a1e",
   "metadata": {},
   "outputs": [
    {
     "data": {
      "text/plain": [
       "dtype('int64')"
      ]
     },
     "execution_count": 11,
     "metadata": {},
     "output_type": "execute_result"
    }
   ],
   "source": [
    "a.dtype"
   ]
  },
  {
   "cell_type": "code",
   "execution_count": 13,
   "id": "83f4e411-a9c9-442c-84bf-3025eb677af9",
   "metadata": {},
   "outputs": [
    {
     "data": {
      "text/plain": [
       "numpy.ndarray"
      ]
     },
     "execution_count": 13,
     "metadata": {},
     "output_type": "execute_result"
    }
   ],
   "source": [
    "type(a)"
   ]
  },
  {
   "cell_type": "code",
   "execution_count": 18,
   "id": "dc79d7c8-bb09-448d-b374-2225d8ac5a2c",
   "metadata": {},
   "outputs": [
    {
     "data": {
      "text/plain": [
       "array([[1., 2., 3.],\n",
       "       [4., 5., 6.],\n",
       "       [7., 8., 9.]])"
      ]
     },
     "execution_count": 18,
     "metadata": {},
     "output_type": "execute_result"
    }
   ],
   "source": [
    "a = a.astype(np.float64)\n",
    "a"
   ]
  },
  {
   "cell_type": "code",
   "execution_count": 19,
   "id": "0c7214e0-fa2b-4e9e-ac55-436820014bb4",
   "metadata": {},
   "outputs": [
    {
     "data": {
      "text/plain": [
       "2.0"
      ]
     },
     "execution_count": 19,
     "metadata": {},
     "output_type": "execute_result"
    }
   ],
   "source": [
    "a[0][1]"
   ]
  },
  {
   "cell_type": "code",
   "execution_count": 23,
   "id": "0ea41371-ba7f-4506-8b77-2dace2463ab0",
   "metadata": {},
   "outputs": [
    {
     "data": {
      "text/plain": [
       "0     Apple\n",
       "1    Banana\n",
       "2    Orange\n",
       "3     Grape\n",
       "4     Mango\n",
       "dtype: object"
      ]
     },
     "execution_count": 23,
     "metadata": {},
     "output_type": "execute_result"
    }
   ],
   "source": [
    "import pandas as pd\n",
    "\n",
    "fruits = pd.Series(['Apple', 'Banana', 'Orange', 'Grape', 'Mango'])\n",
    "\n",
    "fruits\n"
   ]
  },
  {
   "cell_type": "code",
   "execution_count": 24,
   "id": "883be06f-a08d-4d0a-adf1-d62195de9e75",
   "metadata": {},
   "outputs": [
    {
     "data": {
      "text/plain": [
       "array(['Apple', 'Banana', 'Orange', 'Grape', 'Mango'], dtype=object)"
      ]
     },
     "execution_count": 24,
     "metadata": {},
     "output_type": "execute_result"
    }
   ],
   "source": [
    "fruits.values"
   ]
  },
  {
   "cell_type": "code",
   "execution_count": 25,
   "id": "6dde0024-09ac-4df8-b6da-92a0ca96a201",
   "metadata": {},
   "outputs": [
    {
     "data": {
      "text/plain": [
       "RangeIndex(start=0, stop=5, step=1)"
      ]
     },
     "execution_count": 25,
     "metadata": {},
     "output_type": "execute_result"
    }
   ],
   "source": [
    "fruits.index"
   ]
  },
  {
   "cell_type": "code",
   "execution_count": 27,
   "id": "8c4a84b1-bd3a-454f-8ed3-c0db225a3ca8",
   "metadata": {},
   "outputs": [
    {
     "name": "stdout",
     "output_type": "stream",
     "text": [
      "\n",
      "과일 가격 시리즈 (커스텀 인덱스):\n",
      "Apple     1000\n",
      "Banana     500\n",
      "Orange     800\n",
      "Grape     1200\n",
      "Mango     1500\n",
      "dtype: int64\n"
     ]
    }
   ],
   "source": [
    "prices = pd.Series([1000, 500, 800, 1200, 1500], \n",
    "                  index=['Apple', 'Banana', 'Orange', 'Grape', 'Mango'])\n",
    "print(\"\\n과일 가격 시리즈 (커스텀 인덱스):\")\n",
    "print(prices)"
   ]
  },
  {
   "cell_type": "code",
   "execution_count": 28,
   "id": "2be1a7a7-9a29-4b0b-818e-42b4a7cba0a1",
   "metadata": {},
   "outputs": [
    {
     "name": "stdout",
     "output_type": "stream",
     "text": [
      "\n",
      "'Grape'의 가격: 1200\n",
      "\n",
      "'Apple'과 'Mango'의 가격:\n",
      "Apple    1000\n",
      "Mango    1500\n",
      "dtype: int64\n"
     ]
    }
   ],
   "source": [
    "\n",
    "# 인덱스로 데이터 선택하기\n",
    "print(\"\\n'Grape'의 가격:\", prices['Grape'])  # 단일 값 선택\n",
    "print(\"\\n'Apple'과 'Mango'의 가격:\")\n",
    "print(prices[['Apple', 'Mango']])  # 여러 값 선택\n"
   ]
  },
  {
   "cell_type": "code",
   "execution_count": 29,
   "id": "8e06da4d-f8a8-4cd7-ad0b-5ae962b3dfbf",
   "metadata": {},
   "outputs": [
    {
     "name": "stdout",
     "output_type": "stream",
     "text": [
      "[ 2  4  6  8 10]\n"
     ]
    }
   ],
   "source": [
    "import numpy as np\n",
    "a = np.array([1, 2, 3, 4, 5])\n",
    "b = np.array([1, 2, 3, 4, 5])\n",
    "\n",
    "print(a+b)"
   ]
  },
  {
   "cell_type": "code",
   "execution_count": 30,
   "id": "461c659e-c066-4309-9a9d-eb4f92e023de",
   "metadata": {},
   "outputs": [
    {
     "name": "stdout",
     "output_type": "stream",
     "text": [
      "[ 6  7  8  9 10]\n"
     ]
    }
   ],
   "source": [
    "print(a+5)"
   ]
  },
  {
   "cell_type": "code",
   "execution_count": 1,
   "id": "2c92cd57-b75f-4800-9f6f-eff211ece5ca",
   "metadata": {},
   "outputs": [
    {
     "name": "stdout",
     "output_type": "stream",
     "text": [
      "fatal: your current branch 'main' does not have any commits yet\n"
     ]
    }
   ],
   "source": [
    "!git log\n"
   ]
  },
  {
   "cell_type": "code",
   "execution_count": 4,
   "id": "291b6c7a-e307-44a6-b17e-e367cca1afee",
   "metadata": {},
   "outputs": [
    {
     "name": "stdout",
     "output_type": "stream",
     "text": [
      "error: remote origin already exists.\n"
     ]
    }
   ],
   "source": [
    "!git remote add origin https://github.com/welovecherry/jupyter_prac.git"
   ]
  },
  {
   "cell_type": "code",
   "execution_count": null,
   "id": "b7098722-61c2-41b3-92c7-7ab2ad91bbbe",
   "metadata": {},
   "outputs": [
    {
     "name": "stdout",
     "output_type": "stream",
     "text": [
      "warning: could not open directory 'Library/Application Support/CallHistoryTransactions/': Operation not permitted\n",
      "warning: could not open directory 'Library/Application Support/CloudDocs/session/db/': Operation not permitted\n",
      "warning: could not open directory 'Library/Application Support/com.apple.sharedfilelist/': Operation not permitted\n",
      "warning: could not open directory 'Library/Application Support/Knowledge/': Operation not permitted\n",
      "warning: could not open directory 'Library/Application Support/com.apple.TCC/': Operation not permitted\n",
      "warning: could not open directory 'Library/Application Support/FileProvider/': Operation not permitted\n",
      "warning: could not open directory 'Library/Application Support/AddressBook/': Operation not permitted\n",
      "warning: could not open directory 'Library/Application Support/FaceTime/': Operation not permitted\n",
      "warning: could not open directory 'Library/Application Support/com.apple.avfoundation/Frecents/': Operation not permitted\n",
      "warning: could not open directory 'Library/Application Support/CallHistoryDB/': Operation not permitted\n",
      "warning: could not open directory 'Library/Assistant/SiriVocabulary/': Operation not permitted\n",
      "warning: could not open directory 'Library/Daemon Containers/': Operation not permitted\n",
      "warning: could not open directory 'Library/Autosave Information/': Operation not permitted\n",
      "warning: could not open directory 'Library/IdentityServices/': Operation not permitted\n",
      "warning: could not open directory 'Library/Calendars/': Operation not permitted\n",
      "warning: could not open directory 'Library/Messages/': Operation not permitted\n",
      "warning: could not open directory 'Library/HomeKit/': Operation not permitted\n",
      "warning: could not open directory 'Library/Sharing/': Operation not permitted\n",
      "warning: could not open directory 'Library/com.apple.aiml.instrumentation/': Operation not permitted\n",
      "warning: could not open directory 'Library/Mail/': Operation not permitted\n",
      "warning: could not open directory 'Library/Trial/': Operation not permitted\n",
      "warning: could not open directory 'Library/AppleMediaServices/': Operation not permitted\n",
      "warning: could not open directory 'Library/DuetExpertCenter/': Operation not permitted\n",
      "warning: could not open directory 'Library/Accounts/': Operation not permitted\n",
      "warning: could not open directory 'Library/Safari/': Operation not permitted\n",
      "warning: could not open directory 'Library/Biome/': Operation not permitted\n",
      "warning: could not open directory 'Library/IntelligencePlatform/': Operation not permitted\n",
      "warning: could not open directory 'Library/Shortcuts/': Operation not permitted\n",
      "warning: could not open directory 'Library/Suggestions/': Operation not permitted\n",
      "warning: could not open directory 'Library/Weather/': Operation not permitted\n",
      "warning: could not open directory 'Library/Group Containers/group.com.apple.feedback/': Operation not permitted\n",
      "warning: could not open directory 'Library/Group Containers/group.com.apple.accessibility.voicebanking/': Operation not permitted\n",
      "warning: could not open directory 'Library/Group Containers/group.com.apple.stocks/': Operation not permitted\n",
      "warning: could not open directory 'Library/Group Containers/group.com.apple.secure-control-center-preferences/': Operation not permitted\n",
      "warning: could not open directory 'Library/Group Containers/group.com.apple.chronod/': Operation not permitted\n",
      "warning: could not open directory 'Library/Group Containers/group.com.apple.private.translation/': Operation not permitted\n",
      "warning: could not open directory 'Library/Group Containers/group.com.apple.iBooks/': Operation not permitted\n",
      "warning: could not open directory 'Library/Group Containers/group.com.apple.calendar/': Operation not permitted\n",
      "warning: could not open directory 'Library/Group Containers/group.com.apple.newsd/': Operation not permitted\n",
      "warning: could not open directory 'Library/Group Containers/group.com.apple.siri.userfeedbacklearning/': Operation not permitted\n",
      "warning: could not open directory 'Library/Group Containers/group.com.apple.gamecenter/': Operation not permitted\n",
      "warning: could not open directory 'Library/Group Containers/group.com.apple.tips/': Operation not permitted\n",
      "warning: could not open directory 'Library/Group Containers/group.com.apple.tv.sharedcontainer/': Operation not permitted\n",
      "warning: could not open directory 'Library/Group Containers/group.com.apple.spotlight/': Operation not permitted\n",
      "warning: could not open directory 'Library/Group Containers/group.com.apple.ManagedSettings/': Operation not permitted\n",
      "warning: could not open directory 'Library/Group Containers/group.com.apple.sharingd/': Operation not permitted\n",
      "warning: could not open directory 'Library/Group Containers/group.com.apple.weather/': Operation not permitted\n",
      "warning: could not open directory 'Library/Group Containers/com.apple.systempreferences.cache/': Operation not permitted\n",
      "warning: could not open directory 'Library/Group Containers/group.com.apple.feedbacklogger/': Operation not permitted\n",
      "warning: could not open directory 'Library/Group Containers/group.com.apple.notes/': Operation not permitted\n",
      "warning: could not open directory 'Library/Group Containers/group.com.apple.tipsnext/': Operation not permitted\n",
      "warning: could not open directory 'Library/Group Containers/group.com.apple.Safari.SandboxBroker/': Operation not permitted\n",
      "warning: could not open directory 'Library/Group Containers/group.com.apple.transparency/': Operation not permitted\n",
      "warning: could not open directory 'Library/Group Containers/group.com.apple.reminders/': Operation not permitted\n",
      "warning: could not open directory 'Library/Group Containers/group.com.apple.mail/': Operation not permitted\n",
      "warning: could not open directory 'Library/Group Containers/group.com.apple.DeviceActivity/': Operation not permitted\n",
      "warning: could not open directory 'Library/Group Containers/group.com.apple.iCloudDrive/': Operation not permitted\n",
      "warning: could not open directory 'Library/Group Containers/com.apple.PreviewLegacySignaturesConversion/': Operation not permitted\n",
      "warning: could not open directory 'Library/Group Containers/group.com.apple.Photos.PhotosFileProvider/': Operation not permitted\n",
      "warning: could not open directory 'Library/Group Containers/group.com.apple.AppleSpell/': Operation not permitted\n",
      "warning: could not open directory 'Library/Group Containers/group.com.apple.mlhost/': Operation not permitted\n",
      "warning: could not open directory 'Library/Group Containers/group.com.apple.PegasusConfiguration/': Operation not permitted\n",
      "warning: could not open directory 'Library/Group Containers/group.com.apple.shortcuts/': Operation not permitted\n",
      "warning: could not open directory 'Library/Group Containers/group.com.apple.people/': Operation not permitted\n",
      "warning: could not open directory 'Library/Containers/com.apple.VoiceMemos/': Operation not permitted\n",
      "warning: could not open directory 'Library/Containers/com.apple.archiveutility/': Operation not permitted\n",
      "warning: could not open directory 'Library/Containers/com.apple.Maps/Data/Maps/': Operation not permitted\n",
      "warning: could not open directory 'Library/Containers/com.apple.Home/': Operation not permitted\n",
      "warning: could not open directory 'Library/Containers/com.apple.Safari/': Operation not permitted\n",
      "warning: could not open directory 'Library/Containers/com.apple.CloudDocs.MobileDocumentsFileProvider/': Operation not permitted\n",
      "warning: could not open directory 'Library/Containers/com.apple.mail/': Operation not permitted\n",
      "warning: could not open directory 'Library/Containers/com.apple.MobileSMS/': Operation not permitted\n",
      "warning: could not open directory 'Library/Containers/com.apple.Notes/': Operation not permitted\n",
      "warning: could not open directory 'Library/Containers/com.apple.corerecents.recentsd/Data/Library/Recents/': Operation not permitted\n",
      "warning: could not open directory 'Library/Containers/com.apple.stocks/': Operation not permitted\n",
      "warning: could not open directory 'Library/Containers/com.apple.Safari.WebApp/': Operation not permitted\n"
     ]
    }
   ],
   "source": [
    "!git add .\n"
   ]
  },
  {
   "cell_type": "code",
   "execution_count": null,
   "id": "67d65845-766e-4803-8587-aba43ece1938",
   "metadata": {},
   "outputs": [],
   "source": [
    "!ls -al"
   ]
  },
  {
   "cell_type": "code",
   "execution_count": null,
   "id": "fce06005-3647-49f3-b83d-e0115cc25b54",
   "metadata": {},
   "outputs": [],
   "source": [
    "!pwd"
   ]
  },
  {
   "cell_type": "code",
   "execution_count": null,
   "id": "074d7d6d-315f-48f2-90ca-829f1425f8a6",
   "metadata": {},
   "outputs": [],
   "source": [
    "import os\n",
    "print(os.getcwd())  # 현재 작업 디렉토리 출력\n",
    "print(os.listdir())  # 현재 디렉토리의 파일 목록 출력"
   ]
  },
  {
   "cell_type": "code",
   "execution_count": null,
   "id": "d0913e2a-65d4-4366-a736-96d7354935e8",
   "metadata": {},
   "outputs": [],
   "source": [
    "%%bash\n",
    "ls -al\n",
    "pwd"
   ]
  },
  {
   "cell_type": "code",
   "execution_count": null,
   "id": "bef60a86-b8cc-4586-8d99-5a3659c4e74b",
   "metadata": {},
   "outputs": [],
   "source": []
  },
  {
   "cell_type": "code",
   "execution_count": null,
   "id": "6e7a49be-ffa6-4dfa-b8a8-83b6e1be8614",
   "metadata": {},
   "outputs": [],
   "source": []
  },
  {
   "cell_type": "code",
   "execution_count": null,
   "id": "724be699-4415-491e-a35e-6451c88e9e02",
   "metadata": {},
   "outputs": [],
   "source": []
  },
  {
   "cell_type": "code",
   "execution_count": null,
   "id": "ead49c5f-11fb-4287-b074-f59d308ffaa9",
   "metadata": {},
   "outputs": [],
   "source": []
  },
  {
   "cell_type": "code",
   "execution_count": null,
   "id": "52031a7a-fadd-470a-84e3-3d4c85cf5187",
   "metadata": {},
   "outputs": [],
   "source": []
  },
  {
   "cell_type": "code",
   "execution_count": null,
   "id": "3cc5120c-cac7-4c38-a774-04fd68d16a87",
   "metadata": {},
   "outputs": [],
   "source": []
  }
 ],
 "metadata": {
  "kernelspec": {
   "display_name": "Python 3 (ipykernel)",
   "language": "python",
   "name": "python3"
  },
  "language_info": {
   "codemirror_mode": {
    "name": "ipython",
    "version": 3
   },
   "file_extension": ".py",
   "mimetype": "text/x-python",
   "name": "python",
   "nbconvert_exporter": "python",
   "pygments_lexer": "ipython3",
   "version": "3.12.7"
  }
 },
 "nbformat": 4,
 "nbformat_minor": 5
}
